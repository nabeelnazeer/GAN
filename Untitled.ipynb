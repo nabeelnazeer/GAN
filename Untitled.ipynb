{
 "cells": [
  {
   "cell_type": "code",
   "execution_count": 88,
   "id": "22604bbf-2388-4186-b085-e4e739120c96",
   "metadata": {},
   "outputs": [
    {
     "name": "stdout",
     "output_type": "stream",
     "text": [
      "Requirement already satisfied: torchvision in /opt/homebrew/lib/python3.11/site-packages (0.17.2)\n",
      "Requirement already satisfied: numpy in /opt/homebrew/lib/python3.11/site-packages (from torchvision) (1.26.4)\n",
      "Requirement already satisfied: torch==2.2.2 in /opt/homebrew/lib/python3.11/site-packages (from torchvision) (2.2.2)\n",
      "Requirement already satisfied: pillow!=8.3.*,>=5.3.0 in /opt/homebrew/lib/python3.11/site-packages (from torchvision) (10.0.0)\n",
      "Requirement already satisfied: filelock in /opt/homebrew/lib/python3.11/site-packages (from torch==2.2.2->torchvision) (3.12.2)\n",
      "Requirement already satisfied: typing-extensions>=4.8.0 in /opt/homebrew/lib/python3.11/site-packages (from torch==2.2.2->torchvision) (4.10.0)\n",
      "Requirement already satisfied: sympy in /opt/homebrew/lib/python3.11/site-packages (from torch==2.2.2->torchvision) (1.12)\n",
      "Requirement already satisfied: networkx in /opt/homebrew/lib/python3.11/site-packages (from torch==2.2.2->torchvision) (3.2.1)\n",
      "Requirement already satisfied: jinja2 in /opt/homebrew/lib/python3.11/site-packages (from torch==2.2.2->torchvision) (3.1.3)\n",
      "Requirement already satisfied: fsspec in /opt/homebrew/lib/python3.11/site-packages (from torch==2.2.2->torchvision) (2024.3.1)\n",
      "Requirement already satisfied: MarkupSafe>=2.0 in /opt/homebrew/lib/python3.11/site-packages (from jinja2->torch==2.2.2->torchvision) (2.1.5)\n",
      "Requirement already satisfied: mpmath>=0.19 in /opt/homebrew/lib/python3.11/site-packages (from sympy->torch==2.2.2->torchvision) (1.3.0)\n",
      "Note: you may need to restart the kernel to use updated packages.\n"
     ]
    }
   ],
   "source": [
    "pip install torchvision"
   ]
  },
  {
   "cell_type": "code",
   "execution_count": 89,
   "id": "bcb24ce8-ceca-4968-b170-0b1ae7871831",
   "metadata": {},
   "outputs": [],
   "source": [
    "import torch\n",
    "import torch.nn as nn\n",
    "import torch.optim as optim\n",
    "import torchvision\n",
    "import torchvision.datasets as datasets\n",
    "from torch.utils.data import DataLoader\n",
    "import torchvision.transforms as transforms\n",
    "from torch.utils.tensorboard import SummaryWriter"
   ]
  },
  {
   "cell_type": "code",
   "execution_count": 90,
   "id": "3d8afe39-8b20-4f1b-be30-865c131995fb",
   "metadata": {},
   "outputs": [],
   "source": [
    "class Discriminator(nn.Module):\n",
    "    def __init__(self, in_features):\n",
    "        super().__init__()\n",
    "        self.disc = nn.Sequential(\n",
    "            nn.Linear(in_features, 128),\n",
    "            nn.LeakyReLU(0.1),\n",
    "            nn.Linear(128, 1),\n",
    "            nn.Sigmoid(),\n",
    "        )\n",
    "    def forward(self, x):\n",
    "        return self.disc(x)\n",
    "        \n",
    "        "
   ]
  },
  {
   "cell_type": "code",
   "execution_count": 91,
   "id": "4dd5362f-303b-4cd2-b67f-ab835692946b",
   "metadata": {},
   "outputs": [],
   "source": [
    "class Generator(nn.Module):\n",
    "    def __init__(self, z_dim, img_dim):\n",
    "        super().__init__()\n",
    "        self.gen = nn.Sequential(\n",
    "            nn.Linear(z_dim, 256),\n",
    "            nn.LeakyReLU(0.1),\n",
    "            nn.Linear(256, img_dim),\n",
    "            nn.Tanh(),\n",
    "        )\n",
    "    def forward(self, x):\n",
    "        return self.gen(x)\n",
    "    "
   ]
  },
  {
   "cell_type": "code",
   "execution_count": 92,
   "id": "0c665937-2f75-4c20-bd6e-86dd1f22c4c4",
   "metadata": {},
   "outputs": [],
   "source": [
    "#Hyperparameter etc,\n",
    "device = \"cuda\" if torch.cuda.is_available() else \"cpu\"\n",
    "lr = 3e-4\n",
    "z_dim = 64\n",
    "image_dim = 28 * 28 *1\n",
    "batch_size = 32\n",
    "num_epochs = 50"
   ]
  },
  {
   "cell_type": "code",
   "execution_count": 93,
   "id": "7327b519-4e09-4c1f-ba3b-0b2a1f2e5134",
   "metadata": {},
   "outputs": [
    {
     "name": "stdout",
     "output_type": "stream",
     "text": [
      "Downloading http://yann.lecun.com/exdb/mnist/train-images-idx3-ubyte.gz\n",
      "Downloading http://yann.lecun.com/exdb/mnist/train-images-idx3-ubyte.gz to dataset/MNIST/raw/train-images-idx3-ubyte.gz\n"
     ]
    },
    {
     "name": "stderr",
     "output_type": "stream",
     "text": [
      "100%|█████████████████████████████| 9912422/9912422 [00:14<00:00, 662793.40it/s]\n"
     ]
    },
    {
     "name": "stdout",
     "output_type": "stream",
     "text": [
      "Extracting dataset/MNIST/raw/train-images-idx3-ubyte.gz to dataset/MNIST/raw\n",
      "\n",
      "Downloading http://yann.lecun.com/exdb/mnist/train-labels-idx1-ubyte.gz\n",
      "Downloading http://yann.lecun.com/exdb/mnist/train-labels-idx1-ubyte.gz to dataset/MNIST/raw/train-labels-idx1-ubyte.gz\n"
     ]
    },
    {
     "name": "stderr",
     "output_type": "stream",
     "text": [
      "100%|████████████████████████████████| 28881/28881 [00:00<00:00, 3441061.67it/s]\n"
     ]
    },
    {
     "name": "stdout",
     "output_type": "stream",
     "text": [
      "Extracting dataset/MNIST/raw/train-labels-idx1-ubyte.gz to dataset/MNIST/raw\n",
      "\n",
      "Downloading http://yann.lecun.com/exdb/mnist/t10k-images-idx3-ubyte.gz\n",
      "Downloading http://yann.lecun.com/exdb/mnist/t10k-images-idx3-ubyte.gz to dataset/MNIST/raw/t10k-images-idx3-ubyte.gz\n"
     ]
    },
    {
     "name": "stderr",
     "output_type": "stream",
     "text": [
      "100%|█████████████████████████████| 1648877/1648877 [00:04<00:00, 345618.91it/s]\n"
     ]
    },
    {
     "name": "stdout",
     "output_type": "stream",
     "text": [
      "Extracting dataset/MNIST/raw/t10k-images-idx3-ubyte.gz to dataset/MNIST/raw\n",
      "\n",
      "Downloading http://yann.lecun.com/exdb/mnist/t10k-labels-idx1-ubyte.gz\n",
      "Downloading http://yann.lecun.com/exdb/mnist/t10k-labels-idx1-ubyte.gz to dataset/MNIST/raw/t10k-labels-idx1-ubyte.gz\n"
     ]
    },
    {
     "name": "stderr",
     "output_type": "stream",
     "text": [
      "100%|█████████████████████████████████| 4542/4542 [00:00<00:00, 10738742.26it/s]\n"
     ]
    },
    {
     "name": "stdout",
     "output_type": "stream",
     "text": [
      "Extracting dataset/MNIST/raw/t10k-labels-idx1-ubyte.gz to dataset/MNIST/raw\n",
      "\n",
      "Epoch [0/50] Batch 0/1875                       Loss D: 0.6667, loss G: 0.6922\n",
      "Epoch [1/50] Batch 0/1875                       Loss D: 0.5574, loss G: 0.8833\n",
      "Epoch [2/50] Batch 0/1875                       Loss D: 0.7985, loss G: 0.6249\n",
      "Epoch [3/50] Batch 0/1875                       Loss D: 0.5895, loss G: 0.9813\n",
      "Epoch [4/50] Batch 0/1875                       Loss D: 0.4630, loss G: 1.2900\n",
      "Epoch [5/50] Batch 0/1875                       Loss D: 0.6632, loss G: 0.9299\n",
      "Epoch [6/50] Batch 0/1875                       Loss D: 0.5259, loss G: 1.0765\n",
      "Epoch [7/50] Batch 0/1875                       Loss D: 0.8813, loss G: 0.6925\n",
      "Epoch [8/50] Batch 0/1875                       Loss D: 0.8995, loss G: 0.7979\n",
      "Epoch [9/50] Batch 0/1875                       Loss D: 0.5979, loss G: 0.8868\n",
      "Epoch [10/50] Batch 0/1875                       Loss D: 0.6643, loss G: 0.9876\n",
      "Epoch [11/50] Batch 0/1875                       Loss D: 0.5139, loss G: 1.2006\n",
      "Epoch [12/50] Batch 0/1875                       Loss D: 0.5766, loss G: 1.1592\n",
      "Epoch [13/50] Batch 0/1875                       Loss D: 0.7802, loss G: 1.0142\n",
      "Epoch [14/50] Batch 0/1875                       Loss D: 0.7294, loss G: 0.8610\n",
      "Epoch [15/50] Batch 0/1875                       Loss D: 0.7165, loss G: 0.9190\n",
      "Epoch [16/50] Batch 0/1875                       Loss D: 0.6645, loss G: 1.1696\n",
      "Epoch [17/50] Batch 0/1875                       Loss D: 0.7204, loss G: 0.7716\n",
      "Epoch [18/50] Batch 0/1875                       Loss D: 0.8786, loss G: 0.8006\n",
      "Epoch [19/50] Batch 0/1875                       Loss D: 0.6976, loss G: 0.9458\n",
      "Epoch [20/50] Batch 0/1875                       Loss D: 0.6566, loss G: 1.1295\n",
      "Epoch [21/50] Batch 0/1875                       Loss D: 0.4901, loss G: 1.3054\n",
      "Epoch [22/50] Batch 0/1875                       Loss D: 0.5878, loss G: 1.2707\n",
      "Epoch [23/50] Batch 0/1875                       Loss D: 0.7700, loss G: 1.0590\n",
      "Epoch [24/50] Batch 0/1875                       Loss D: 0.6826, loss G: 0.8117\n",
      "Epoch [25/50] Batch 0/1875                       Loss D: 0.6434, loss G: 1.2742\n",
      "Epoch [26/50] Batch 0/1875                       Loss D: 0.5253, loss G: 1.2970\n",
      "Epoch [27/50] Batch 0/1875                       Loss D: 0.5097, loss G: 1.1715\n",
      "Epoch [28/50] Batch 0/1875                       Loss D: 0.7388, loss G: 0.7670\n",
      "Epoch [29/50] Batch 0/1875                       Loss D: 0.6887, loss G: 1.0495\n",
      "Epoch [30/50] Batch 0/1875                       Loss D: 0.4816, loss G: 1.0655\n",
      "Epoch [31/50] Batch 0/1875                       Loss D: 0.6137, loss G: 1.1482\n",
      "Epoch [32/50] Batch 0/1875                       Loss D: 0.6202, loss G: 0.9883\n",
      "Epoch [33/50] Batch 0/1875                       Loss D: 0.7443, loss G: 0.9182\n",
      "Epoch [34/50] Batch 0/1875                       Loss D: 0.6005, loss G: 0.9021\n",
      "Epoch [35/50] Batch 0/1875                       Loss D: 0.6801, loss G: 0.9909\n",
      "Epoch [36/50] Batch 0/1875                       Loss D: 0.6750, loss G: 1.0830\n",
      "Epoch [37/50] Batch 0/1875                       Loss D: 0.6061, loss G: 0.8876\n",
      "Epoch [38/50] Batch 0/1875                       Loss D: 0.7499, loss G: 0.8503\n",
      "Epoch [39/50] Batch 0/1875                       Loss D: 0.7301, loss G: 0.9503\n",
      "Epoch [40/50] Batch 0/1875                       Loss D: 0.5434, loss G: 1.0689\n",
      "Epoch [41/50] Batch 0/1875                       Loss D: 0.7251, loss G: 0.8782\n",
      "Epoch [42/50] Batch 0/1875                       Loss D: 0.5916, loss G: 1.1460\n",
      "Epoch [43/50] Batch 0/1875                       Loss D: 0.6258, loss G: 0.8678\n",
      "Epoch [44/50] Batch 0/1875                       Loss D: 0.7915, loss G: 0.5845\n",
      "Epoch [45/50] Batch 0/1875                       Loss D: 0.6435, loss G: 1.0139\n",
      "Epoch [46/50] Batch 0/1875                       Loss D: 0.6803, loss G: 1.0300\n",
      "Epoch [47/50] Batch 0/1875                       Loss D: 0.6740, loss G: 0.8575\n",
      "Epoch [48/50] Batch 0/1875                       Loss D: 0.6821, loss G: 0.9299\n",
      "Epoch [49/50] Batch 0/1875                       Loss D: 0.5829, loss G: 0.9257\n"
     ]
    }
   ],
   "source": [
    "disc = Discriminator(image_dim).to(device)\n",
    "gen = Generator(z_dim, image_dim).to(device)\n",
    "fixed_noise = torch.randn((batch_size, z_dim)).to(device)\n",
    "transforms = transforms.Compose([\n",
    "    transforms.ToTensor(),\n",
    "    transforms.Normalize((0.5,), (0.5,))\n",
    "])\n",
    "dataset = datasets.MNIST(root = \"dataset/\", transform = transforms, download = True)\n",
    "loader =  DataLoader(dataset, batch_size = batch_size, shuffle= True)\n",
    "opt_disc = optim.Adam(disc.parameters(), lr=lr)\n",
    "opt_gen = optim.Adam(gen.parameters(), lr=lr)\n",
    "criterion = nn.BCELoss()\n",
    "writer_fake = SummaryWriter(f\"runs/GAN_MNIST/fake\")\n",
    "writer_real = SummaryWriter(f\"runs/GAN_MNIST/real\")\n",
    "step = 0\n",
    "\n",
    "for epoch in range(num_epochs):\n",
    "    for batch_idx, (real, _) in enumerate(loader):\n",
    "        real = real.view(-1, 784).to(device)\n",
    "        batch_size = real.shape[0]\n",
    "        ### Train discriminator\n",
    "        noise = torch.randn(batch_size, z_dim).to(device)\n",
    "        fake = gen(noise)\n",
    "        disc_real = disc(real).view(-1)\n",
    "        lossD_real = criterion(disc_real, torch.ones_like(disc_real))\n",
    "        disc_fake = disc(fake).view(-1)\n",
    "        lossD_fake = criterion(disc_fake, torch.zeros_like(disc_fake))\n",
    "        lossD = (lossD_real + lossD_fake) / 2\n",
    "        disc.zero_grad()\n",
    "        lossD.backward(retain_graph = True)\n",
    "        opt_disc.step()\n",
    "        ###train generator\n",
    "\n",
    "        output = disc(fake).view(-1)\n",
    "        lossG = criterion(output, torch.ones_like(output))\n",
    "        gen.zero_grad()\n",
    "        lossG.backward()\n",
    "        opt_gen.step()\n",
    "        if batch_idx == 0:\n",
    "            print(\n",
    "                f\"Epoch [{epoch}/{num_epochs}] Batch {batch_idx}/{len(loader)} \\\n",
    "                      Loss D: {lossD:.4f}, loss G: {lossG:.4f}\"\n",
    "            )\n",
    "\n",
    "            with torch.no_grad():\n",
    "                fake = gen(fixed_noise).reshape(-1, 1, 28, 28)\n",
    "                data = real.reshape(-1, 1, 28, 28)\n",
    "                img_grid_fake = torchvision.utils.make_grid(fake, normalize=True)\n",
    "                img_grid_real = torchvision.utils.make_grid(data, normalize=True)\n",
    "\n",
    "                writer_fake.add_image(\n",
    "                    \"Mnist Fake Images\", img_grid_fake, global_step=step\n",
    "                )\n",
    "                writer_real.add_image(\n",
    "                    \"Mnist Real Images\", img_grid_real, global_step=step\n",
    "                )\n",
    "                step += 1\n",
    "\n"
   ]
  },
  {
   "cell_type": "code",
   "execution_count": null,
   "id": "d1e3c014-6b92-4e15-a932-0e554643604a",
   "metadata": {},
   "outputs": [],
   "source": []
  },
  {
   "cell_type": "code",
   "execution_count": null,
   "id": "5f673900-8a63-4059-bc27-9e9a89a5a821",
   "metadata": {},
   "outputs": [],
   "source": []
  }
 ],
 "metadata": {
  "kernelspec": {
   "display_name": "Python 3 (ipykernel)",
   "language": "python",
   "name": "python3"
  },
  "language_info": {
   "codemirror_mode": {
    "name": "ipython",
    "version": 3
   },
   "file_extension": ".py",
   "mimetype": "text/x-python",
   "name": "python",
   "nbconvert_exporter": "python",
   "pygments_lexer": "ipython3",
   "version": "3.11.8"
  }
 },
 "nbformat": 4,
 "nbformat_minor": 5
}
